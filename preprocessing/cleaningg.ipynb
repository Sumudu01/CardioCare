{
 "cells": [
  {
   "cell_type": "code",
   "execution_count": null,
   "metadata": {
    "colab": {
     "base_uri": "https://localhost:8080/",
     "height": 73
    },
    "executionInfo": {
     "elapsed": 2953,
     "status": "ok",
     "timestamp": 1759398925167,
     "user": {
      "displayName": "Senthazhan Sivapalan",
      "userId": "13905722758698351538"
     },
     "user_tz": -330
    },
    "id": "2nExgARI7NIH",
    "outputId": "53593d7b-fe01-4431-922a-baa19ede3d88"
   },
   "outputs": [
    {
     "name": "stdout",
     "output_type": "stream",
     "text": [
      "Drive already mounted at /content/drive; to attempt to forcibly remount, call drive.mount(\"/content/drive\", force_remount=True).\n"
     ]
    },
    {
     "data": {
      "application/vnd.google.colaboratory.intrinsic+json": {
       "type": "string"
      },
      "text/plain": [
       "'/content/drive/MyDrive/heartAttack_dirty(2).csv'"
      ]
     },
     "execution_count": 48,
     "metadata": {},
     "output_type": "execute_result"
    }
   ],
   "source": [
    "#Upload the heartAttack_dirty CSV from my drive\n",
    "from google.colab import drive\n",
    "drive.mount('/content/drive')\n",
    "\n",
    "# Path to your dataset inside Drive\n",
    "# Example: if file is in \"My Drive/datasets/heartAttack_dirty.csv\"\n",
    "RAW_FILE = \"/content/drive/MyDrive/heartAttack_dirty(2).csv\"\n",
    "RAW_FILE\n"
   ]
  },
  {
   "cell_type": "code",
   "execution_count": null,
   "metadata": {
    "colab": {
     "base_uri": "https://localhost:8080/",
     "height": 273
    },
    "executionInfo": {
     "elapsed": 413,
     "status": "ok",
     "timestamp": 1759398928220,
     "user": {
      "displayName": "Senthazhan Sivapalan",
      "userId": "13905722758698351538"
     },
     "user_tz": -330
    },
    "id": "zWWHu-UW9BdW",
    "outputId": "c4c7757a-989e-411d-a36c-952b662687e5"
   },
   "outputs": [
    {
     "name": "stdout",
     "output_type": "stream",
     "text": [
      "(120259, 28)\n"
     ]
    },
    {
     "data": {
      "application/vnd.google.colaboratory.intrinsic+json": {
       "type": "dataframe",
       "variable_name": "df"
      },
      "text/html": [
       "\n",
       "  <div id=\"df-ca142343-e353-42d6-af7f-b3d5353082d0\" class=\"colab-df-container\">\n",
       "    <div>\n",
       "<style scoped>\n",
       "    .dataframe tbody tr th:only-of-type {\n",
       "        vertical-align: middle;\n",
       "    }\n",
       "\n",
       "    .dataframe tbody tr th {\n",
       "        vertical-align: top;\n",
       "    }\n",
       "\n",
       "    .dataframe thead th {\n",
       "        text-align: right;\n",
       "    }\n",
       "</style>\n",
       "<table border=\"1\" class=\"dataframe\">\n",
       "  <thead>\n",
       "    <tr style=\"text-align: right;\">\n",
       "      <th></th>\n",
       "      <th>age</th>\n",
       "      <th>gender</th>\n",
       "      <th>region</th>\n",
       "      <th>income_level</th>\n",
       "      <th>hypertension</th>\n",
       "      <th>diabetes</th>\n",
       "      <th>cholesterol_level</th>\n",
       "      <th>obesity</th>\n",
       "      <th>waist_circumference</th>\n",
       "      <th>family_history</th>\n",
       "      <th>...</th>\n",
       "      <th>blood_pressure_diastolic</th>\n",
       "      <th>fasting_blood_sugar</th>\n",
       "      <th>cholesterol_hdl</th>\n",
       "      <th>cholesterol_ldl</th>\n",
       "      <th>triglycerides</th>\n",
       "      <th>EKG_results</th>\n",
       "      <th>previous_heart_disease</th>\n",
       "      <th>medication_usage</th>\n",
       "      <th>participated_in_free_screening</th>\n",
       "      <th>heart_attack</th>\n",
       "    </tr>\n",
       "  </thead>\n",
       "  <tbody>\n",
       "    <tr>\n",
       "      <th>0</th>\n",
       "      <td>60.0</td>\n",
       "      <td>Male</td>\n",
       "      <td>Rural</td>\n",
       "      <td>Middle</td>\n",
       "      <td>0.0</td>\n",
       "      <td>1.0</td>\n",
       "      <td>NaN</td>\n",
       "      <td>0.0</td>\n",
       "      <td>83.0</td>\n",
       "      <td>0.0</td>\n",
       "      <td>...</td>\n",
       "      <td>62.0</td>\n",
       "      <td>173.0</td>\n",
       "      <td>48.0</td>\n",
       "      <td>121.0</td>\n",
       "      <td>101.0</td>\n",
       "      <td>Normal</td>\n",
       "      <td>0.0</td>\n",
       "      <td>0.0</td>\n",
       "      <td>0.0</td>\n",
       "      <td>0.0</td>\n",
       "    </tr>\n",
       "    <tr>\n",
       "      <th>1</th>\n",
       "      <td>53.0</td>\n",
       "      <td>Female</td>\n",
       "      <td>urban</td>\n",
       "      <td>Low</td>\n",
       "      <td>0.0</td>\n",
       "      <td>0.0</td>\n",
       "      <td>208.0</td>\n",
       "      <td>0.0</td>\n",
       "      <td>106.0</td>\n",
       "      <td>1.0</td>\n",
       "      <td>...</td>\n",
       "      <td>76.0</td>\n",
       "      <td>70.0</td>\n",
       "      <td>58.0</td>\n",
       "      <td>83.0</td>\n",
       "      <td>138.0</td>\n",
       "      <td>Normal</td>\n",
       "      <td>1.0</td>\n",
       "      <td>0.0</td>\n",
       "      <td>1.0</td>\n",
       "      <td>0.0</td>\n",
       "    </tr>\n",
       "    <tr>\n",
       "      <th>2</th>\n",
       "      <td>62.0</td>\n",
       "      <td>Female</td>\n",
       "      <td>Urban</td>\n",
       "      <td>Low</td>\n",
       "      <td>0.0</td>\n",
       "      <td>0.0</td>\n",
       "      <td>231.0</td>\n",
       "      <td>1.0</td>\n",
       "      <td>112.0</td>\n",
       "      <td>1.0</td>\n",
       "      <td>...</td>\n",
       "      <td>74.0</td>\n",
       "      <td>118.0</td>\n",
       "      <td>69.0</td>\n",
       "      <td>130.0</td>\n",
       "      <td>171.0</td>\n",
       "      <td>Abnormal</td>\n",
       "      <td>0.0</td>\n",
       "      <td>1.0</td>\n",
       "      <td>0.0</td>\n",
       "      <td>1.0</td>\n",
       "    </tr>\n",
       "    <tr>\n",
       "      <th>3</th>\n",
       "      <td>73.0</td>\n",
       "      <td>Male</td>\n",
       "      <td>Urban</td>\n",
       "      <td>Low</td>\n",
       "      <td>1.0</td>\n",
       "      <td>0.0</td>\n",
       "      <td>202.0</td>\n",
       "      <td>0.0</td>\n",
       "      <td>82.0</td>\n",
       "      <td>1.0</td>\n",
       "      <td>...</td>\n",
       "      <td>65.0</td>\n",
       "      <td>98.0</td>\n",
       "      <td>52.0</td>\n",
       "      <td>85.0</td>\n",
       "      <td>146.0</td>\n",
       "      <td>Normal</td>\n",
       "      <td>0.0</td>\n",
       "      <td>1.0</td>\n",
       "      <td>1.0</td>\n",
       "      <td>0.0</td>\n",
       "    </tr>\n",
       "    <tr>\n",
       "      <th>4</th>\n",
       "      <td>52.0</td>\n",
       "      <td>Male</td>\n",
       "      <td>Urban</td>\n",
       "      <td>Middle</td>\n",
       "      <td>0.0</td>\n",
       "      <td>0.0</td>\n",
       "      <td>231.0</td>\n",
       "      <td>1.0</td>\n",
       "      <td>81.0</td>\n",
       "      <td>1.0</td>\n",
       "      <td>...</td>\n",
       "      <td>71.0</td>\n",
       "      <td>129.0</td>\n",
       "      <td>34.0</td>\n",
       "      <td>148.0</td>\n",
       "      <td>191.0</td>\n",
       "      <td>Normal</td>\n",
       "      <td>0.0</td>\n",
       "      <td>1.0</td>\n",
       "      <td>1.0</td>\n",
       "      <td>0.0</td>\n",
       "    </tr>\n",
       "  </tbody>\n",
       "</table>\n",
       "<p>5 rows × 28 columns</p>\n",
       "</div>\n",
       "    <div class=\"colab-df-buttons\">\n",
       "\n",
       "  <div class=\"colab-df-container\">\n",
       "    <button class=\"colab-df-convert\" onclick=\"convertToInteractive('df-ca142343-e353-42d6-af7f-b3d5353082d0')\"\n",
       "            title=\"Convert this dataframe to an interactive table.\"\n",
       "            style=\"display:none;\">\n",
       "\n",
       "  <svg xmlns=\"http://www.w3.org/2000/svg\" height=\"24px\" viewBox=\"0 -960 960 960\">\n",
       "    <path d=\"M120-120v-720h720v720H120Zm60-500h600v-160H180v160Zm220 220h160v-160H400v160Zm0 220h160v-160H400v160ZM180-400h160v-160H180v160Zm440 0h160v-160H620v160ZM180-180h160v-160H180v160Zm440 0h160v-160H620v160Z\"/>\n",
       "  </svg>\n",
       "    </button>\n",
       "\n",
       "  <style>\n",
       "    .colab-df-container {\n",
       "      display:flex;\n",
       "      gap: 12px;\n",
       "    }\n",
       "\n",
       "    .colab-df-convert {\n",
       "      background-color: #E8F0FE;\n",
       "      border: none;\n",
       "      border-radius: 50%;\n",
       "      cursor: pointer;\n",
       "      display: none;\n",
       "      fill: #1967D2;\n",
       "      height: 32px;\n",
       "      padding: 0 0 0 0;\n",
       "      width: 32px;\n",
       "    }\n",
       "\n",
       "    .colab-df-convert:hover {\n",
       "      background-color: #E2EBFA;\n",
       "      box-shadow: 0px 1px 2px rgba(60, 64, 67, 0.3), 0px 1px 3px 1px rgba(60, 64, 67, 0.15);\n",
       "      fill: #174EA6;\n",
       "    }\n",
       "\n",
       "    .colab-df-buttons div {\n",
       "      margin-bottom: 4px;\n",
       "    }\n",
       "\n",
       "    [theme=dark] .colab-df-convert {\n",
       "      background-color: #3B4455;\n",
       "      fill: #D2E3FC;\n",
       "    }\n",
       "\n",
       "    [theme=dark] .colab-df-convert:hover {\n",
       "      background-color: #434B5C;\n",
       "      box-shadow: 0px 1px 3px 1px rgba(0, 0, 0, 0.15);\n",
       "      filter: drop-shadow(0px 1px 2px rgba(0, 0, 0, 0.3));\n",
       "      fill: #FFFFFF;\n",
       "    }\n",
       "  </style>\n",
       "\n",
       "    <script>\n",
       "      const buttonEl =\n",
       "        document.querySelector('#df-ca142343-e353-42d6-af7f-b3d5353082d0 button.colab-df-convert');\n",
       "      buttonEl.style.display =\n",
       "        google.colab.kernel.accessAllowed ? 'block' : 'none';\n",
       "\n",
       "      async function convertToInteractive(key) {\n",
       "        const element = document.querySelector('#df-ca142343-e353-42d6-af7f-b3d5353082d0');\n",
       "        const dataTable =\n",
       "          await google.colab.kernel.invokeFunction('convertToInteractive',\n",
       "                                                    [key], {});\n",
       "        if (!dataTable) return;\n",
       "\n",
       "        const docLinkHtml = 'Like what you see? Visit the ' +\n",
       "          '<a target=\"_blank\" href=https://colab.research.google.com/notebooks/data_table.ipynb>data table notebook</a>'\n",
       "          + ' to learn more about interactive tables.';\n",
       "        element.innerHTML = '';\n",
       "        dataTable['output_type'] = 'display_data';\n",
       "        await google.colab.output.renderOutput(dataTable, element);\n",
       "        const docLink = document.createElement('div');\n",
       "        docLink.innerHTML = docLinkHtml;\n",
       "        element.appendChild(docLink);\n",
       "      }\n",
       "    </script>\n",
       "  </div>\n",
       "\n",
       "\n",
       "    <div id=\"df-13a11379-231c-4258-9db4-c1ad6bc9eb35\">\n",
       "      <button class=\"colab-df-quickchart\" onclick=\"quickchart('df-13a11379-231c-4258-9db4-c1ad6bc9eb35')\"\n",
       "                title=\"Suggest charts\"\n",
       "                style=\"display:none;\">\n",
       "\n",
       "<svg xmlns=\"http://www.w3.org/2000/svg\" height=\"24px\"viewBox=\"0 0 24 24\"\n",
       "     width=\"24px\">\n",
       "    <g>\n",
       "        <path d=\"M19 3H5c-1.1 0-2 .9-2 2v14c0 1.1.9 2 2 2h14c1.1 0 2-.9 2-2V5c0-1.1-.9-2-2-2zM9 17H7v-7h2v7zm4 0h-2V7h2v10zm4 0h-2v-4h2v4z\"/>\n",
       "    </g>\n",
       "</svg>\n",
       "      </button>\n",
       "\n",
       "<style>\n",
       "  .colab-df-quickchart {\n",
       "      --bg-color: #E8F0FE;\n",
       "      --fill-color: #1967D2;\n",
       "      --hover-bg-color: #E2EBFA;\n",
       "      --hover-fill-color: #174EA6;\n",
       "      --disabled-fill-color: #AAA;\n",
       "      --disabled-bg-color: #DDD;\n",
       "  }\n",
       "\n",
       "  [theme=dark] .colab-df-quickchart {\n",
       "      --bg-color: #3B4455;\n",
       "      --fill-color: #D2E3FC;\n",
       "      --hover-bg-color: #434B5C;\n",
       "      --hover-fill-color: #FFFFFF;\n",
       "      --disabled-bg-color: #3B4455;\n",
       "      --disabled-fill-color: #666;\n",
       "  }\n",
       "\n",
       "  .colab-df-quickchart {\n",
       "    background-color: var(--bg-color);\n",
       "    border: none;\n",
       "    border-radius: 50%;\n",
       "    cursor: pointer;\n",
       "    display: none;\n",
       "    fill: var(--fill-color);\n",
       "    height: 32px;\n",
       "    padding: 0;\n",
       "    width: 32px;\n",
       "  }\n",
       "\n",
       "  .colab-df-quickchart:hover {\n",
       "    background-color: var(--hover-bg-color);\n",
       "    box-shadow: 0 1px 2px rgba(60, 64, 67, 0.3), 0 1px 3px 1px rgba(60, 64, 67, 0.15);\n",
       "    fill: var(--button-hover-fill-color);\n",
       "  }\n",
       "\n",
       "  .colab-df-quickchart-complete:disabled,\n",
       "  .colab-df-quickchart-complete:disabled:hover {\n",
       "    background-color: var(--disabled-bg-color);\n",
       "    fill: var(--disabled-fill-color);\n",
       "    box-shadow: none;\n",
       "  }\n",
       "\n",
       "  .colab-df-spinner {\n",
       "    border: 2px solid var(--fill-color);\n",
       "    border-color: transparent;\n",
       "    border-bottom-color: var(--fill-color);\n",
       "    animation:\n",
       "      spin 1s steps(1) infinite;\n",
       "  }\n",
       "\n",
       "  @keyframes spin {\n",
       "    0% {\n",
       "      border-color: transparent;\n",
       "      border-bottom-color: var(--fill-color);\n",
       "      border-left-color: var(--fill-color);\n",
       "    }\n",
       "    20% {\n",
       "      border-color: transparent;\n",
       "      border-left-color: var(--fill-color);\n",
       "      border-top-color: var(--fill-color);\n",
       "    }\n",
       "    30% {\n",
       "      border-color: transparent;\n",
       "      border-left-color: var(--fill-color);\n",
       "      border-top-color: var(--fill-color);\n",
       "      border-right-color: var(--fill-color);\n",
       "    }\n",
       "    40% {\n",
       "      border-color: transparent;\n",
       "      border-right-color: var(--fill-color);\n",
       "      border-top-color: var(--fill-color);\n",
       "    }\n",
       "    60% {\n",
       "      border-color: transparent;\n",
       "      border-right-color: var(--fill-color);\n",
       "    }\n",
       "    80% {\n",
       "      border-color: transparent;\n",
       "      border-right-color: var(--fill-color);\n",
       "      border-bottom-color: var(--fill-color);\n",
       "    }\n",
       "    90% {\n",
       "      border-color: transparent;\n",
       "      border-bottom-color: var(--fill-color);\n",
       "    }\n",
       "  }\n",
       "</style>\n",
       "\n",
       "      <script>\n",
       "        async function quickchart(key) {\n",
       "          const quickchartButtonEl =\n",
       "            document.querySelector('#' + key + ' button');\n",
       "          quickchartButtonEl.disabled = true;  // To prevent multiple clicks.\n",
       "          quickchartButtonEl.classList.add('colab-df-spinner');\n",
       "          try {\n",
       "            const charts = await google.colab.kernel.invokeFunction(\n",
       "                'suggestCharts', [key], {});\n",
       "          } catch (error) {\n",
       "            console.error('Error during call to suggestCharts:', error);\n",
       "          }\n",
       "          quickchartButtonEl.classList.remove('colab-df-spinner');\n",
       "          quickchartButtonEl.classList.add('colab-df-quickchart-complete');\n",
       "        }\n",
       "        (() => {\n",
       "          let quickchartButtonEl =\n",
       "            document.querySelector('#df-13a11379-231c-4258-9db4-c1ad6bc9eb35 button');\n",
       "          quickchartButtonEl.style.display =\n",
       "            google.colab.kernel.accessAllowed ? 'block' : 'none';\n",
       "        })();\n",
       "      </script>\n",
       "    </div>\n",
       "\n",
       "    </div>\n",
       "  </div>\n"
      ],
      "text/plain": [
       "    age  gender  region income_level  hypertension  diabetes  \\\n",
       "0  60.0    Male   Rural       Middle           0.0       1.0   \n",
       "1  53.0  Female   urban          Low           0.0       0.0   \n",
       "2  62.0  Female   Urban          Low           0.0       0.0   \n",
       "3  73.0   Male   Urban           Low           1.0       0.0   \n",
       "4  52.0    Male   Urban       Middle           0.0       0.0   \n",
       "\n",
       "   cholesterol_level  obesity  waist_circumference  family_history  ...  \\\n",
       "0                NaN      0.0                 83.0             0.0  ...   \n",
       "1              208.0      0.0                106.0             1.0  ...   \n",
       "2              231.0      1.0                112.0             1.0  ...   \n",
       "3              202.0      0.0                 82.0             1.0  ...   \n",
       "4              231.0      1.0                 81.0             1.0  ...   \n",
       "\n",
       "  blood_pressure_diastolic fasting_blood_sugar cholesterol_hdl  \\\n",
       "0                     62.0               173.0            48.0   \n",
       "1                     76.0                70.0            58.0   \n",
       "2                     74.0               118.0            69.0   \n",
       "3                     65.0                98.0            52.0   \n",
       "4                     71.0               129.0            34.0   \n",
       "\n",
       "  cholesterol_ldl triglycerides EKG_results  previous_heart_disease  \\\n",
       "0           121.0         101.0      Normal                     0.0   \n",
       "1            83.0         138.0      Normal                     1.0   \n",
       "2           130.0         171.0    Abnormal                     0.0   \n",
       "3            85.0         146.0      Normal                     0.0   \n",
       "4           148.0         191.0      Normal                     0.0   \n",
       "\n",
       "   medication_usage  participated_in_free_screening  heart_attack  \n",
       "0               0.0                             0.0           0.0  \n",
       "1               0.0                             1.0           0.0  \n",
       "2               1.0                             0.0           1.0  \n",
       "3               1.0                             1.0           0.0  \n",
       "4               1.0                             1.0           0.0  \n",
       "\n",
       "[5 rows x 28 columns]"
      ]
     },
     "execution_count": 49,
     "metadata": {},
     "output_type": "execute_result"
    }
   ],
   "source": [
    "#read & quick peek\n",
    "\n",
    "import pandas as pd\n",
    "\n",
    "df = pd.read_csv(RAW_FILE)\n",
    "print(df.shape)\n",
    "df.head()\n"
   ]
  },
  {
   "cell_type": "code",
   "execution_count": null,
   "metadata": {
    "id": "VhgZ-DQeGsRf"
   },
   "outputs": [],
   "source": [
    "#Helper functions (text cleaning, range checks, casing)\n",
    "\n",
    "import numpy as np\n",
    "import pandas as pd\n",
    "\n",
    "def strip_normalize_text(s):\n",
    "    if pd.isna(s):\n",
    "        return s\n",
    "    # remove leading/trailing spaces and collapse multiple spaces\n",
    "    return \" \".join(str(s).split())\n",
    "\n",
    "def clip_or_nan(series, lo=None, hi=None):\n",
    "    s = series.copy()\n",
    "    invalid = pd.Series(False, index=s.index)\n",
    "    if lo is not None:\n",
    "        invalid |= s < lo\n",
    "    if hi is not None:\n",
    "        invalid |= s > hi\n",
    "    s[invalid] = np.nan\n",
    "    return s\n",
    "\n",
    "def standardize_case(df, col, mode=\"title\"):\n",
    "    if col not in df.columns:\n",
    "        return df\n",
    "    if mode == \"title\":\n",
    "        df[col] = df[col].apply(lambda x: x.title() if isinstance(x, str) else x)\n",
    "    return df\n"
   ]
  },
  {
   "cell_type": "code",
   "execution_count": null,
   "metadata": {
    "id": "vkPznjooGzDa"
   },
   "outputs": [],
   "source": [
    "#Config: domain rules (valid ranges)\n",
    "\n",
    "# Valid physiological ranges used to flag impossible values as missing (NaN)\n",
    "RANGE_RULES = {\n",
    "    \"age\": (0, 100),\n",
    "    \"sleep_hours\": (0, 24),\n",
    "    \"blood_pressure_systolic\": (50, 300),\n",
    "    \"blood_pressure_diastolic\": (20, 200),\n",
    "    \"cholesterol_level\": (50, 500),\n",
    "    \"cholesterol_hdl\": (10, 150),\n",
    "    \"cholesterol_ldl\": (0, 400),\n",
    "    \"triglycerides\": (0, 1500),\n",
    "    \"waist_circumference\": (30, 300),\n",
    "    \"fasting_blood_sugar\": (40, 600),\n",
    "}\n"
   ]
  },
  {
   "cell_type": "code",
   "execution_count": null,
   "metadata": {
    "colab": {
     "base_uri": "https://localhost:8080/"
    },
    "executionInfo": {
     "elapsed": 1168,
     "status": "ok",
     "timestamp": 1759398942725,
     "user": {
      "displayName": "Senthazhan Sivapalan",
      "userId": "13905722758698351538"
     },
     "user_tz": -330
    },
    "id": "s7c48ADEG4SX",
    "outputId": "f90edcf6-85f7-42f0-fe29-b61592287882"
   },
   "outputs": [
    {
     "name": "stdout",
     "output_type": "stream",
     "text": [
      "Duplicates removed: 3\n"
     ]
    }
   ],
   "source": [
    "#Remove duplicates + normalize all text columns\n",
    "\n",
    "# Remove exact duplicates\n",
    "before_rows = len(df)\n",
    "df = df.drop_duplicates().reset_index(drop=True)\n",
    "removed_dups = before_rows - len(df)\n",
    "print(\"Duplicates removed:\", removed_dups)\n",
    "\n",
    "# Normalize whitespace/casing for object columns\n",
    "obj_cols = df.select_dtypes(include=[\"object\"]).columns.tolist()\n",
    "for c in obj_cols:\n",
    "    df[c] = df[c].apply(strip_normalize_text)\n",
    "\n",
    "# Standardize case for key categoricals\n",
    "for col in [\"gender\", \"region\", \"smoking_status\", \"dietary_habits\", \"EKG_results\"]:\n",
    "    if col in df.columns:\n",
    "        df = standardize_case(df, col, \"title\")\n"
   ]
  },
  {
   "cell_type": "code",
   "execution_count": null,
   "metadata": {
    "id": "GnFVcf0qHsAQ"
   },
   "outputs": [],
   "source": [
    "#Alcohol rule: keep literal ‘None’ as a real category (not missing)\n",
    "\n",
    "if \"alcohol_consumption\" in df.columns:\n",
    "    df[\"alcohol_consumption\"] = df[\"alcohol_consumption\"].apply(strip_normalize_text)\n",
    "    df[\"alcohol_consumption\"] = df[\"alcohol_consumption\"].apply(lambda x: x.title() if isinstance(x, str) else x)\n",
    "\n",
    "    canon_map = {\n",
    "        \"None\": \"None\",\n",
    "        \"No Alcohol\": \"None\",\n",
    "        \"Nil\": \"None\",\n",
    "        \"Non-Drinker\": \"None\",\n",
    "        \"Occasional\": \"Occasional\",\n",
    "        \"Moderate\": \"Moderate\",\n",
    "        \"Heavy\": \"Heavy\"\n",
    "    }\n",
    "    df[\"alcohol_consumption\"] = df[\"alcohol_consumption\"].replace(canon_map)\n",
    "\n",
    "    # 👇 NEW LINE: make sure real \"None\" stays a valid string, not NaN\n",
    "    df[\"alcohol_consumption\"] = df[\"alcohol_consumption\"].fillna(\"None\")\n",
    "\n"
   ]
  },
  {
   "cell_type": "code",
   "execution_count": null,
   "metadata": {
    "colab": {
     "base_uri": "https://localhost:8080/"
    },
    "executionInfo": {
     "elapsed": 39,
     "status": "ok",
     "timestamp": 1759398948332,
     "user": {
      "displayName": "Senthazhan Sivapalan",
      "userId": "13905722758698351538"
     },
     "user_tz": -330
    },
    "id": "vuK4Xj4mN6S6",
    "outputId": "82fd28ea-1449-49da-ac7b-465b16f400a7"
   },
   "outputs": [
    {
     "name": "stdout",
     "output_type": "stream",
     "text": [
      "Negative values set to NaN: {'cholesterol_level': 371, 'cholesterol_ldl': 13}\n",
      "Out-of-range set to NaN: {'age': 604, 'sleep_hours': 373, 'blood_pressure_systolic': 1, 'blood_pressure_diastolic': 1, 'cholesterol_level': 1, 'cholesterol_hdl': 2, 'cholesterol_ldl': 0, 'triglycerides': 0, 'waist_circumference': 6, 'fasting_blood_sugar': 1}\n"
     ]
    }
   ],
   "source": [
    "#Convert negatives to NaN + apply range rules\n",
    "\n",
    "# Replace ALL negative numeric values with NaN\n",
    "num_cols = df.select_dtypes(include=[np.number]).columns.tolist()\n",
    "neg_counts = {}\n",
    "for c in num_cols:\n",
    "    neg_mask = df[c] < 0\n",
    "    if neg_mask.any():\n",
    "        neg_counts[c] = int(neg_mask.sum())\n",
    "        df.loc[neg_mask, c] = np.nan\n",
    "print(\"Negative values set to NaN:\", neg_counts)\n",
    "\n",
    "# Clip by domain ranges: values outside range -> NaN\n",
    "range_out_counts = {}\n",
    "for c, (lo, hi) in RANGE_RULES.items():\n",
    "    if c in df.columns:\n",
    "        before_nan = df[c].isna().sum()\n",
    "        df[c] = clip_or_nan(df[c], lo, hi)\n",
    "        after_nan = df[c].isna().sum()\n",
    "        range_out_counts[c] = int(after_nan - before_nan)\n",
    "print(\"Out-of-range set to NaN:\", range_out_counts)\n"
   ]
  },
  {
   "cell_type": "code",
   "execution_count": null,
   "metadata": {
    "colab": {
     "base_uri": "https://localhost:8080/"
    },
    "executionInfo": {
     "elapsed": 502,
     "status": "ok",
     "timestamp": 1759398951015,
     "user": {
      "displayName": "Senthazhan Sivapalan",
      "userId": "13905722758698351538"
     },
     "user_tz": -330
    },
    "id": "hoxS17BWOS2v",
    "outputId": "22172387-3621-4d55-cb95-d2fbb7fbb1ea"
   },
   "outputs": [
    {
     "name": "stdout",
     "output_type": "stream",
     "text": [
      "Categorical imputed: {'gender': 1, 'region': 1, 'income_level': 1, 'smoking_status': 9619, 'physical_activity': 1, 'dietary_habits': 1, 'air_pollution_exposure': 1, 'stress_level': 1, 'EKG_results': 1}\n",
      "Numeric imputed (median): {'age': 605, 'hypertension': 1, 'diabetes': 1, 'cholesterol_level': 10067, 'obesity': 1, 'waist_circumference': 7, 'family_history': 1, 'sleep_hours': 9924, 'blood_pressure_systolic': 2, 'blood_pressure_diastolic': 2, 'fasting_blood_sugar': 2, 'cholesterol_hdl': 3, 'cholesterol_ldl': 14, 'triglycerides': 1, 'previous_heart_disease': 1, 'medication_usage': 1, 'participated_in_free_screening': 1, 'heart_attack': 1}\n"
     ]
    }
   ],
   "source": [
    "#Impute missing values (categorical → ‘Unknown’ / numeric → median)\n",
    "\n",
    "# Categorical imputation\n",
    "cat_cols = df.select_dtypes(include=[\"object\"]).columns.tolist()\n",
    "cat_imputed = {}\n",
    "for c in cat_cols:\n",
    "    miss = int(df[c].isna().sum())\n",
    "    if miss > 0:\n",
    "        if c in {\"smoking_status\", \"alcohol_consumption\", \"region\", \"dietary_habits\"}:\n",
    "            df[c] = df[c].fillna(\"Unknown\")\n",
    "        else:\n",
    "            df[c] = df[c].fillna(df[c].mode(dropna=True)[0])\n",
    "        cat_imputed[c] = miss\n",
    "\n",
    "# Numeric imputation (median)\n",
    "num_imputed = {}\n",
    "for c in num_cols:\n",
    "    miss = int(df[c].isna().sum())\n",
    "    if miss > 0:\n",
    "        df[c] = df[c].fillna(df[c].median())\n",
    "        num_imputed[c] = miss\n",
    "\n",
    "print(\"Categorical imputed:\", cat_imputed)\n",
    "print(\"Numeric imputed (median):\", num_imputed)\n"
   ]
  },
  {
   "cell_type": "code",
   "execution_count": null,
   "metadata": {
    "colab": {
     "base_uri": "https://localhost:8080/"
    },
    "executionInfo": {
     "elapsed": 133,
     "status": "ok",
     "timestamp": 1759398954291,
     "user": {
      "displayName": "Senthazhan Sivapalan",
      "userId": "13905722758698351538"
     },
     "user_tz": -330
    },
    "id": "SGI3xJVNOckB",
    "outputId": "f1701c0c-d1d9-4902-85c9-2776262fa050"
   },
   "outputs": [
    {
     "name": "stdout",
     "output_type": "stream",
     "text": [
      "Dtypes set. Done.\n"
     ]
    }
   ],
   "source": [
    "#Final type tidying (binary flags to int, set categories)\n",
    "\n",
    "# Cast binary-like numerics to int 0/1\n",
    "for c in num_cols:\n",
    "    uniq = set(df[c].dropna().unique())\n",
    "    if len(uniq) <= 2 and uniq.issubset({0, 1, 0.0, 1.0}):\n",
    "        df[c] = df[c].astype(int)\n",
    "\n",
    "# Make key text columns categorical (saves memory, clarifies intent)\n",
    "for c in [\"gender\", \"region\", \"smoking_status\", \"dietary_habits\", \"EKG_results\", \"alcohol_consumption\"]:\n",
    "    if c in df.columns:\n",
    "        df[c] = df[c].astype(\"category\")\n",
    "\n",
    "print(\"Dtypes set. Done.\")\n"
   ]
  },
  {
   "cell_type": "code",
   "execution_count": null,
   "metadata": {
    "colab": {
     "base_uri": "https://localhost:8080/",
     "height": 243
    },
    "executionInfo": {
     "elapsed": 1660,
     "status": "ok",
     "timestamp": 1759398958565,
     "user": {
      "displayName": "Senthazhan Sivapalan",
      "userId": "13905722758698351538"
     },
     "user_tz": -330
    },
    "id": "GkAgFmyTPQBp",
    "outputId": "4e51497f-6eec-492e-c388-bd4b509631a7"
   },
   "outputs": [
    {
     "name": "stdout",
     "output_type": "stream",
     "text": [
      "Saved: heartAttack_clean.csv with shape: (120256, 28)\n",
      "Top missing counts (should be 0):\n",
      "age                    0\n",
      "gender                 0\n",
      "region                 0\n",
      "income_level           0\n",
      "hypertension           0\n",
      "diabetes               0\n",
      "cholesterol_level      0\n",
      "obesity                0\n",
      "waist_circumference    0\n",
      "family_history         0\n",
      "dtype: int64\n"
     ]
    },
    {
     "data": {
      "application/javascript": "\n    async function download(id, filename, size) {\n      if (!google.colab.kernel.accessAllowed) {\n        return;\n      }\n      const div = document.createElement('div');\n      const label = document.createElement('label');\n      label.textContent = `Downloading \"${filename}\": `;\n      div.appendChild(label);\n      const progress = document.createElement('progress');\n      progress.max = size;\n      div.appendChild(progress);\n      document.body.appendChild(div);\n\n      const buffers = [];\n      let downloaded = 0;\n\n      const channel = await google.colab.kernel.comms.open(id);\n      // Send a message to notify the kernel that we're ready.\n      channel.send({})\n\n      for await (const message of channel.messages) {\n        // Send a message to notify the kernel that we're ready.\n        channel.send({})\n        if (message.buffers) {\n          for (const buffer of message.buffers) {\n            buffers.push(buffer);\n            downloaded += buffer.byteLength;\n            progress.value = downloaded;\n          }\n        }\n      }\n      const blob = new Blob(buffers, {type: 'application/binary'});\n      const a = document.createElement('a');\n      a.href = window.URL.createObjectURL(blob);\n      a.download = filename;\n      div.appendChild(a);\n      a.click();\n      div.remove();\n    }\n  ",
      "text/plain": [
       "<IPython.core.display.Javascript object>"
      ]
     },
     "metadata": {},
     "output_type": "display_data"
    },
    {
     "data": {
      "application/javascript": "download(\"download_d7a86756-3de4-4015-8dfd-de7bc7587653\", \"heartAttack_clean.csv\", 17926128)",
      "text/plain": [
       "<IPython.core.display.Javascript object>"
      ]
     },
     "metadata": {},
     "output_type": "display_data"
    }
   ],
   "source": [
    "#Save, download, and quick sanity check\n",
    "\n",
    "from google.colab import files\n",
    "\n",
    "CLEAN_FILE = \"heartAttack_clean.csv\"\n",
    "df.to_csv(CLEAN_FILE, index=False)\n",
    "print(\"Saved:\", CLEAN_FILE, \"with shape:\", df.shape)\n",
    "\n",
    "# All columns should now have 0 missing after imputation\n",
    "missing_summary = df.isna().sum().sort_values(ascending=False).head(10)\n",
    "print(\"Top missing counts (should be 0):\")\n",
    "print(missing_summary)\n",
    "\n",
    "# Auto-download\n",
    "files.download(CLEAN_FILE)\n"
   ]
  },
  {
   "cell_type": "markdown",
   "metadata": {
    "id": "66af0c53"
   },
   "source": [
    "**Note:** Replace `YOUR_GITHUB_REPO_URL` with the URL of your GitHub repository and `YOUR_COMMIT_MESSAGE` with a brief description of your changes."
   ]
  }
 ],
 "metadata": {
  "colab": {
   "authorship_tag": "ABX9TyOVrexwMf7VBmRiIlrexSLx",
   "mount_file_id": "1HD_I2VhM1dRdnhSps55SkGef0qPfLeAc",
   "provenance": []
  },
  "kernelspec": {
   "display_name": "Python 3",
   "name": "python3"
  },
  "language_info": {
   "name": "python"
  }
 },
 "nbformat": 4,
 "nbformat_minor": 0
}
